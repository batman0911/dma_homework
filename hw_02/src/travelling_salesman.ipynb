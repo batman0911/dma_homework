{
 "cells": [
  {
   "cell_type": "code",
   "execution_count": 13,
   "metadata": {},
   "outputs": [],
   "source": [
    "import numpy as np"
   ]
  },
  {
   "cell_type": "markdown",
   "metadata": {},
   "source": [
    "nearest neighbour method"
   ]
  },
  {
   "cell_type": "code",
   "execution_count": 14,
   "metadata": {},
   "outputs": [],
   "source": [
    "def min_vertice(G: np.ndarray, path: list, starting_vertice: int):\n",
    "    vertices_not_in_path = []\n",
    "    \n",
    "    for i in range(G.shape[0]):\n",
    "        if i not in path:\n",
    "            vertices_not_in_path.append(i)\n",
    "    \n",
    "    min_weigted = np.Infinity\n",
    "    adding_vertice = starting_vertice\n",
    "    last_vetice = path[-1]\n",
    "\n",
    "    for vertice in vertices_not_in_path:\n",
    "        w = G[last_vetice, vertice]\n",
    "        if w != 0 and w < min_weigted:\n",
    "            min_weigted = w\n",
    "            adding_vertice = vertice\n",
    "\n",
    "    return adding_vertice"
   ]
  },
  {
   "cell_type": "code",
   "execution_count": 15,
   "metadata": {},
   "outputs": [],
   "source": [
    "def find_shortest_path(G: np.ndarray, starting_vertice: int):\n",
    "\n",
    "    path = [starting_vertice]\n",
    "\n",
    "    for i in range(G.shape[0]):\n",
    "        adding_vertice  = min_vertice(G, path, starting_vertice)\n",
    "        path.append(adding_vertice)\n",
    "\n",
    "    return path\n",
    "      "
   ]
  },
  {
   "cell_type": "code",
   "execution_count": 16,
   "metadata": {},
   "outputs": [],
   "source": [
    "def cal_total_weight(G: np.ndarray, path: list):\n",
    "    sum = 0\n",
    "    for i in range(len(path) - 1):\n",
    "        sum = sum + G[path[i], path[i+1]]\n",
    "    return sum"
   ]
  },
  {
   "cell_type": "code",
   "execution_count": 17,
   "metadata": {},
   "outputs": [
    {
     "name": "stdout",
     "output_type": "stream",
     "text": [
      "[0, 1, 3, 2, 0]\n",
      "80\n"
     ]
    }
   ],
   "source": [
    "# G = np.array([[0, 113, 147, 167, 56],\n",
    "#                 [113, 0, 98, 142, 137],\n",
    "#                 [147, 98, 0, 58, 135],\n",
    "#                 [167, 142, 58, 0, 133],\n",
    "#                 [56, 137, 135, 133, 0],\n",
    "#                 ])\n",
    "\n",
    "G = np.array([[0, 10, 15, 20],\n",
    "            [10, 0, 35, 25],\n",
    "            [15, 35, 0, 30],\n",
    "            [20, 25, 30, 0]])\n",
    "\n",
    "path = find_shortest_path(G, 0)\n",
    "total_weight = cal_total_weight(G, path)\n",
    "print(path)\n",
    "print(total_weight)"
   ]
  },
  {
   "cell_type": "code",
   "execution_count": 18,
   "metadata": {},
   "outputs": [],
   "source": [
    "# def tsp(G: np.ndarray, starting_vertice: int):\n",
    "#     n = G.shape[0]\n",
    "#     C = [starting_vertice]\n",
    "#     L = 0\n",
    "#     while len(C) < n:\n",
    "#         min = np.infty\n",
    "#         next_vertice = -1\n",
    "#         for u in C:\n",
    "#             for v in range(n):\n",
    "#                 if v in C:\n",
    "#                     continue\n",
    "#                 if G[u,v] != -1 and G[u,v] < min:\n",
    "#                     min = G[u,v]\n",
    "#                     next_vertice = v\n",
    "#         C.append(next_vertice)\n",
    "#         L = L + min\n",
    "#     return L"
   ]
  },
  {
   "cell_type": "code",
   "execution_count": 19,
   "metadata": {},
   "outputs": [
    {
     "name": "stdout",
     "output_type": "stream",
     "text": [
      "45\n"
     ]
    }
   ],
   "source": [
    "# G = np.array([[0, 2, 3, -1, 4],\n",
    "#             [2, 0, 2, 3, -1],\n",
    "#             [3, 2, 0, 2, 2],\n",
    "#             [-1, 3, 2, 0, 3],\n",
    "#             [4, -1, 2, 3, 0]])\n",
    "\n",
    "# G = np.array([[0, 10, 15, 20],\n",
    "#             [10, 0, 35, 25],\n",
    "#             [15, 35, 0, 30],\n",
    "#             [20, 25, 30, 0]])\n",
    "\n",
    "# L = tsp(G, 0)\n",
    "# print(L)"
   ]
  }
 ],
 "metadata": {
  "kernelspec": {
   "display_name": "Python 3.8.10 ('venv': venv)",
   "language": "python",
   "name": "python3"
  },
  "language_info": {
   "codemirror_mode": {
    "name": "ipython",
    "version": 3
   },
   "file_extension": ".py",
   "mimetype": "text/x-python",
   "name": "python",
   "nbconvert_exporter": "python",
   "pygments_lexer": "ipython3",
   "version": "3.8.10"
  },
  "orig_nbformat": 4,
  "vscode": {
   "interpreter": {
    "hash": "377b16e8867f0c2bd3398b658dcb2563b157a8726ee82162f3ee1f194fba9ea3"
   }
  }
 },
 "nbformat": 4,
 "nbformat_minor": 2
}
