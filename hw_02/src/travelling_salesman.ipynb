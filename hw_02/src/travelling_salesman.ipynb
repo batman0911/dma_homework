{
 "cells": [
  {
   "cell_type": "code",
   "execution_count": 22,
   "metadata": {},
   "outputs": [],
   "source": [
    "import numpy as np"
   ]
  },
  {
   "cell_type": "markdown",
   "metadata": {},
   "source": [
    "nearest neighbour method"
   ]
  },
  {
   "cell_type": "code",
   "execution_count": 23,
   "metadata": {},
   "outputs": [],
   "source": [
    "def min_vertice(G: np.ndarray, path: list, starting_vertice: int):\n",
    "    vertices_not_in_path = []\n",
    "    \n",
    "    for i in range(G.shape[0]):\n",
    "        if i not in path:\n",
    "            vertices_not_in_path.append(i)\n",
    "    \n",
    "    min_weigted = np.Infinity\n",
    "    adding_vertice = starting_vertice\n",
    "    last_vetice = path[-1]\n",
    "\n",
    "    for vertice in vertices_not_in_path:\n",
    "        w = G[last_vetice, vertice]\n",
    "        if w != 0 and w < min_weigted:\n",
    "            min_weigted = w\n",
    "            adding_vertice = vertice\n",
    "\n",
    "    return adding_vertice"
   ]
  },
  {
   "cell_type": "code",
   "execution_count": 24,
   "metadata": {},
   "outputs": [],
   "source": [
    "def find_shortest_path(G: np.ndarray, starting_vertice: int):\n",
    "\n",
    "    path = [starting_vertice]\n",
    "\n",
    "    for i in range(G.shape[0]):\n",
    "        adding_vertice  = min_vertice(G, path, starting_vertice)\n",
    "        path.append(adding_vertice)\n",
    "\n",
    "    return path\n",
    "      "
   ]
  },
  {
   "cell_type": "code",
   "execution_count": 25,
   "metadata": {},
   "outputs": [],
   "source": [
    "def cal_total_weight(G: np.ndarray, path: list):\n",
    "    sum = 0\n",
    "    for i in range(len(path) - 1):\n",
    "        sum = sum + G[path[i], path[i+1]]\n",
    "    return sum"
   ]
  },
  {
   "cell_type": "code",
   "execution_count": 26,
   "metadata": {},
   "outputs": [
    {
     "name": "stdout",
     "output_type": "stream",
     "text": [
      "[2, 3, 4, 0, 1, 2]\n",
      "458\n"
     ]
    }
   ],
   "source": [
    "G = np.array([[0, 113, 147, 167, 56],\n",
    "                [113, 0, 98, 142, 137],\n",
    "                [147, 98, 0, 58, 135],\n",
    "                [167, 142, 58, 0, 133],\n",
    "                [56, 137, 135, 133, 0],\n",
    "                ])\n",
    "\n",
    "path = find_shortest_path(G, 2)\n",
    "total_weight = cal_total_weight(G, path)\n",
    "print(path)\n",
    "print(total_weight)"
   ]
  }
 ],
 "metadata": {
  "kernelspec": {
   "display_name": "Python 3.8.10 ('venv': venv)",
   "language": "python",
   "name": "python3"
  },
  "language_info": {
   "codemirror_mode": {
    "name": "ipython",
    "version": 3
   },
   "file_extension": ".py",
   "mimetype": "text/x-python",
   "name": "python",
   "nbconvert_exporter": "python",
   "pygments_lexer": "ipython3",
   "version": "3.8.10"
  },
  "orig_nbformat": 4,
  "vscode": {
   "interpreter": {
    "hash": "efa5ca6f672ed2ed2c4101c80855e63c8f44f01a01ed231771ebd7e091c073f2"
   }
  }
 },
 "nbformat": 4,
 "nbformat_minor": 2
}
