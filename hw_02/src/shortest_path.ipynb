{
 "cells": [
  {
   "cell_type": "code",
   "execution_count": 25,
   "metadata": {},
   "outputs": [],
   "source": [
    "import numpy as np"
   ]
  },
  {
   "cell_type": "markdown",
   "metadata": {},
   "source": [
    "weighted graph and Dijkstra’s Algorithm"
   ]
  },
  {
   "cell_type": "code",
   "execution_count": 26,
   "metadata": {},
   "outputs": [],
   "source": [
    "def min_vertice(G: np.ndarray, path: list):\n",
    "    vertices_not_in_path = []\n",
    "    \n",
    "    for i in range(G.shape[0]):\n",
    "        if i not in path:\n",
    "            vertices_not_in_path.append(i)\n",
    "    \n",
    "    min_weigted = np.Infinity\n",
    "    adding_vertice = -1\n",
    "    last_vetice = path[-1]\n",
    "\n",
    "    for vertice in vertices_not_in_path:\n",
    "        w = G[last_vetice, vertice]\n",
    "        if w != 0 and w < min_weigted:\n",
    "            min_weigted = w\n",
    "            adding_vertice = vertice\n",
    "\n",
    "    return adding_vertice"
   ]
  },
  {
   "cell_type": "code",
   "execution_count": 27,
   "metadata": {},
   "outputs": [],
   "source": [
    "def find_shortest_path(G: np.ndarray, start_vertice: int, end_vertice: int):\n",
    "\n",
    "    path = [start_vertice]\n",
    "\n",
    "    while end_vertice not in path:\n",
    "        adding_vertice  = min_vertice(G, path)\n",
    "        path.append(adding_vertice)\n",
    "\n",
    "    return path\n",
    "      "
   ]
  },
  {
   "cell_type": "code",
   "execution_count": 28,
   "metadata": {},
   "outputs": [],
   "source": [
    "def cal_total_weight(G: np.ndarray, path: list):\n",
    "    sum = 0\n",
    "    for i in range(len(path) - 1):\n",
    "        sum = sum + G[path[i], path[i+1]]\n",
    "    return sum"
   ]
  },
  {
   "cell_type": "code",
   "execution_count": 31,
   "metadata": {},
   "outputs": [
    {
     "name": "stdout",
     "output_type": "stream",
     "text": [
      "[0, 2, 1, 3, 4, 5]\n",
      "13\n"
     ]
    }
   ],
   "source": [
    "G = np.array([[0, 4, 2, 0, 0, 0],\n",
    "                [4, 0, 1, 5, 0, 0],\n",
    "                [2, 1, 0, 8, 10, 0],\n",
    "                [0, 5, 8, 0, 2, 6],\n",
    "                [0, 0, 10, 2, 0, 3],\n",
    "                [0, 0, 0, 6, 3, 0]])\n",
    "\n",
    "path = find_shortest_path(G, 0, 5)\n",
    "total_weight = cal_total_weight(G, path)\n",
    "print(path)\n",
    "print(total_weight)"
   ]
  }
 ],
 "metadata": {
  "kernelspec": {
   "display_name": "Python 3.8.10 ('venv': venv)",
   "language": "python",
   "name": "python3"
  },
  "language_info": {
   "codemirror_mode": {
    "name": "ipython",
    "version": 3
   },
   "file_extension": ".py",
   "mimetype": "text/x-python",
   "name": "python",
   "nbconvert_exporter": "python",
   "pygments_lexer": "ipython3",
   "version": "3.8.10"
  },
  "orig_nbformat": 4,
  "vscode": {
   "interpreter": {
    "hash": "efa5ca6f672ed2ed2c4101c80855e63c8f44f01a01ed231771ebd7e091c073f2"
   }
  }
 },
 "nbformat": 4,
 "nbformat_minor": 2
}
