{
 "cells": [
  {
   "cell_type": "code",
   "execution_count": 8,
   "metadata": {},
   "outputs": [
    {
     "name": "stdout",
     "output_type": "stream",
     "text": [
      "hello dai ca Linh\n"
     ]
    }
   ],
   "source": [
    "print('hello dai ca Linh')"
   ]
  },
  {
   "cell_type": "code",
   "execution_count": 13,
   "metadata": {},
   "outputs": [],
   "source": [
    "def binary_search(a, x, l , r):\n",
    "    if l == r:\n",
    "        return l if x == a[l] else -1\n",
    "    \n",
    "    m = (l + r)//2\n",
    "\n",
    "    if x == a[m]:\n",
    "        return m\n",
    "\n",
    "    if x < a[m]:\n",
    "        return binary_search(a, x, l, m)\n",
    "    else:\n",
    "        return binary_search(a, x, m + 1, r)"
   ]
  },
  {
   "cell_type": "code",
   "execution_count": 14,
   "metadata": {},
   "outputs": [
    {
     "name": "stdout",
     "output_type": "stream",
     "text": [
      "2\n"
     ]
    }
   ],
   "source": [
    "a = [1, 2, 3, 4, 5, 6, 7, 8]\n",
    "x = 3\n",
    "i = binary_search(a, x, 0, len(a))\n",
    "print(i)"
   ]
  }
 ],
 "metadata": {
  "kernelspec": {
   "display_name": "Python 3.8.10 ('venv': venv)",
   "language": "python",
   "name": "python3"
  },
  "language_info": {
   "codemirror_mode": {
    "name": "ipython",
    "version": 3
   },
   "file_extension": ".py",
   "mimetype": "text/x-python",
   "name": "python",
   "nbconvert_exporter": "python",
   "pygments_lexer": "ipython3",
   "version": "3.8.10"
  },
  "orig_nbformat": 4,
  "vscode": {
   "interpreter": {
    "hash": "16027c8f3c0f87a5bb0df27de1ec8c71b86de43f93c776c5244a737dd8d77827"
   }
  }
 },
 "nbformat": 4,
 "nbformat_minor": 2
}
