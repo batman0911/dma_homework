{
 "cells": [
  {
   "cell_type": "code",
   "execution_count": 8,
   "metadata": {},
   "outputs": [
    {
     "name": "stdout",
     "output_type": "stream",
     "text": [
      "hello dai ca Linh\n"
     ]
    }
   ],
   "source": [
    "print('hello dai ca Linh')"
   ]
  },
  {
   "cell_type": "code",
   "execution_count": 13,
   "metadata": {},
   "outputs": [],
   "source": [
    "def binary_search(a, x, l , r):\n",
    "    if l == r:\n",
    "        return l if x == a[l] else -1\n",
    "    \n",
    "    m = (l + r)//2\n",
    "\n",
    "    if x == a[m]:\n",
    "        return m\n",
    "\n",
    "    if x < a[m]:\n",
    "        return binary_search(a, x, l, m)\n",
    "    else:\n",
    "        return binary_search(a, x, m + 1, r)"
   ]
  },
  {
   "cell_type": "code",
   "execution_count": 14,
   "metadata": {},
   "outputs": [
    {
     "name": "stdout",
     "output_type": "stream",
     "text": [
      "2\n"
     ]
    }
   ],
   "source": [
    "a = [1, 2, 3, 4, 5, 6, 7, 8]\n",
    "x = 3\n",
    "i = binary_search(a, x, 0, len(a))\n",
    "print(i)"
   ]
  },
  {
   "cell_type": "markdown",
   "metadata": {},
   "source": [
    "Bài toán: \"Dãy con đơn điệu tăng dài nhất\""
   ]
  },
  {
   "cell_type": "code",
   "execution_count": 1,
   "metadata": {},
   "outputs": [],
   "source": [
    "def lis(_list):\n",
    "    longest = [_list[0]]\n",
    "    current = [_list[0]]\n",
    "    for i in _list[1:]:\n",
    "        if i >= current[-1]:\n",
    "            current.append(i)\n",
    "        else:\n",
    "            if len(longest) < len(current):\n",
    "                longest = current\n",
    "            current = [i]\n",
    "    if len(longest) < len(current):\n",
    "            longest = current\n",
    "    return longest"
   ]
  },
  {
   "cell_type": "code",
   "execution_count": 2,
   "metadata": {},
   "outputs": [
    {
     "name": "stdout",
     "output_type": "stream",
     "text": [
      "[2, 6, 7, 9]\n"
     ]
    }
   ],
   "source": [
    "t1 = [0, 4, 3, 2, 6, 7, 9]\n",
    "print(lis(t1))"
   ]
  },
  {
   "cell_type": "markdown",
   "metadata": {},
   "source": [
    "Bài toán \"Xếp balo 0-1\""
   ]
  },
  {
   "cell_type": "code",
   "execution_count": 3,
   "metadata": {},
   "outputs": [],
   "source": [
    "def  Knapsack(weights, values, capacity):\n",
    "    items = list(zip(weights, values))\n",
    "    def dp(i, cp):\n",
    "        if i == len(items):\n",
    "            return 0.0\n",
    "        w, v = items[i]\n",
    "        ans = dp(i + 1, cp)\n",
    "        if cp >= w:\n",
    "            ans = max(ans, dp(i + 1, cp - w) + v)\n",
    "        return ans\n",
    "    return int(dp(0, capacity))"
   ]
  },
  {
   "cell_type": "code",
   "execution_count": 4,
   "metadata": {},
   "outputs": [
    {
     "name": "stdout",
     "output_type": "stream",
     "text": [
      "8\n"
     ]
    }
   ],
   "source": [
    "weights = [2,1,4,3]\n",
    "values = [3,3,4,2]\n",
    "capacity = 6\n",
    "print(Knapsack(weights, values, capacity))"
   ]
  }
 ],
 "metadata": {
  "kernelspec": {
   "display_name": "myenv",
   "language": "python",
   "name": "myenv"
  },
  "language_info": {
   "codemirror_mode": {
    "name": "ipython",
    "version": 3
   },
   "file_extension": ".py",
   "mimetype": "text/x-python",
   "name": "python",
   "nbconvert_exporter": "python",
   "pygments_lexer": "ipython3",
   "version": "3.8.10"
  },
  "orig_nbformat": 4,
  "vscode": {
   "interpreter": {
    "hash": "16027c8f3c0f87a5bb0df27de1ec8c71b86de43f93c776c5244a737dd8d77827"
   }
  }
 },
 "nbformat": 4,
 "nbformat_minor": 2
}
