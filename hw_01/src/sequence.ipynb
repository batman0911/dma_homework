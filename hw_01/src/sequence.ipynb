{
 "cells": [
  {
   "cell_type": "code",
   "execution_count": 133,
   "metadata": {},
   "outputs": [],
   "source": [
    "import numpy as np"
   ]
  },
  {
   "cell_type": "code",
   "execution_count": 134,
   "metadata": {},
   "outputs": [],
   "source": [
    "left, up, dia = 1, 2, 3\n",
    "match, mismatch, insert, delete = 2, -1, -1, -1"
   ]
  },
  {
   "cell_type": "code",
   "execution_count": 135,
   "metadata": {},
   "outputs": [],
   "source": [
    "def delta(a, b):\n",
    "    if a == b:\n",
    "        return match\n",
    "    if '-' == a:\n",
    "        return insert\n",
    "    if '-' == b:\n",
    "        return delete\n",
    "    return mismatch"
   ]
  },
  {
   "cell_type": "code",
   "execution_count": 136,
   "metadata": {},
   "outputs": [],
   "source": [
    "def node_score(s, t, node, i, j):\n",
    "    score_match_mismatch = node[i-1, j-1] \\\n",
    "        + delta(s[i], t[j])\n",
    "    score_delete = node[i-1, j] + delta(s[i], '-')\n",
    "    score_insert = node[i, j-1] + delta(s[i], '-')\n",
    "    return max([score_match_mismatch, \n",
    "                score_delete, \n",
    "                score_insert])"
   ]
  },
  {
   "cell_type": "code",
   "execution_count": 137,
   "metadata": {},
   "outputs": [],
   "source": [
    "def lsc(s, t):\n",
    "    n = len(s)\n",
    "    m = len(t)\n",
    "    backtrack = np.zeros((n+1, m+1), dtype=int)\n",
    "    v = np.zeros((n+1, m+1), dtype=int)\n",
    "    s = '-' + s\n",
    "    t = '-' + t\n",
    "    for i in range(n+1):\n",
    "        v[i, 0] = -i\n",
    "    for j in range(m+1):\n",
    "        v[0, j] = -j\n",
    "    for i in range(1, n+1):\n",
    "        for j in range(1, m+1):\n",
    "            v[i, j] = node_score(s, t, v, i, j)\n",
    "            if v[i, j] == v[i-1, j] + delta(s[i], '-'):\n",
    "                backtrack[i, j] = up\n",
    "            elif v[i, j] == v[i, j-1] + delta('-', t[j]):\n",
    "                backtrack[i, j] = left\n",
    "            else:\n",
    "                backtrack[i, j] = dia\n",
    "    return v, backtrack"
   ]
  },
  {
   "cell_type": "code",
   "execution_count": 138,
   "metadata": {},
   "outputs": [
    {
     "name": "stdout",
     "output_type": "stream",
     "text": [
      "[[ 0 -1 -2 -3 -4 -5 -6 -7]\n",
      " [-1  2  1  0 -1 -2 -3 -4]\n",
      " [-2  1  1  3  2  1  0 -1]\n",
      " [-3  0  0  2  5  4  3  2]\n",
      " [-4 -1 -1  1  4  4  3  2]\n",
      " [-5 -2 -2  0  3  6  5  4]\n",
      " [-6 -3 -3  0  2  5  5  7]\n",
      " [-7 -4 -4 -1  1  4  4  7]]\n",
      "[[0 0 0 0 0 0 0 0]\n",
      " [0 3 1 1 1 1 1 1]\n",
      " [0 2 3 3 1 1 1 1]\n",
      " [0 2 2 2 3 1 1 1]\n",
      " [0 2 2 2 2 3 1 1]\n",
      " [0 2 2 2 2 3 1 1]\n",
      " [0 2 2 3 2 2 3 3]\n",
      " [0 2 2 2 2 2 2 3]]\n"
     ]
    }
   ],
   "source": [
    "s = 'ACAATCC'\n",
    "t = 'AGCATGC'\n",
    "\n",
    "v, backtrack = lsc(s, t)\n",
    "print(v)\n",
    "print(backtrack)"
   ]
  },
  {
   "cell_type": "code",
   "execution_count": 139,
   "metadata": {},
   "outputs": [],
   "source": [
    "def out(s, t, backtrack):\n",
    "    n = len(s)\n",
    "    m = len(t)\n",
    "    source, target = s, t\n",
    "    i, j = n, m\n",
    "    while i > 0 and j > 0:\n",
    "        if backtrack[i, j] == left:\n",
    "            source = source[:j-1] + '-' + source[j-1:]\n",
    "            j = j - 1\n",
    "            continue\n",
    "        if backtrack[i, j] == up:\n",
    "            target = target[:i-1] + '-' + target[i-1:]\n",
    "            i = i - 1\n",
    "            continue\n",
    "        i = i - 1\n",
    "        j = j - 1\n",
    "    return source, target"
   ]
  },
  {
   "cell_type": "code",
   "execution_count": 140,
   "metadata": {},
   "outputs": [
    {
     "name": "stdout",
     "output_type": "stream",
     "text": [
      "A-CAATCC\n",
      "AGC-ATGC\n"
     ]
    }
   ],
   "source": [
    "source, target = out(s, t, backtrack)\n",
    "print(source)\n",
    "print(target)"
   ]
  }
 ],
 "metadata": {
  "kernelspec": {
   "display_name": "Python 3.8.10 64-bit",
   "language": "python",
   "name": "python3"
  },
  "language_info": {
   "codemirror_mode": {
    "name": "ipython",
    "version": 3
   },
   "file_extension": ".py",
   "mimetype": "text/x-python",
   "name": "python",
   "nbconvert_exporter": "python",
   "pygments_lexer": "ipython3",
   "version": "3.8.10"
  },
  "orig_nbformat": 4,
  "vscode": {
   "interpreter": {
    "hash": "916dbcbb3f70747c44a77c7bcd40155683ae19c65e1c03b4aa3499c5328201f1"
   }
  }
 },
 "nbformat": 4,
 "nbformat_minor": 2
}
