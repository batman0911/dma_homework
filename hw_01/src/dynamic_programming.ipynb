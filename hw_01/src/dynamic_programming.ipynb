{
 "cells": [
  {
   "cell_type": "code",
   "execution_count": 20,
   "metadata": {},
   "outputs": [
    {
     "name": "stdout",
     "output_type": "stream",
     "text": [
      "hello dai ca Linh\n"
     ]
    }
   ],
   "source": [
    "print('hello dai ca Linh')"
   ]
  },
  {
   "cell_type": "markdown",
   "metadata": {},
   "source": [
    "Bài toán dãy con không giảm dài nhất"
   ]
  },
  {
   "cell_type": "code",
   "execution_count": 21,
   "metadata": {},
   "outputs": [],
   "source": [
    "def lis(a: list()):\n",
    "    n = len(a)\n",
    "    l = []\n",
    "\n",
    "    for i in range(n):\n",
    "        l.append(1)\n",
    "\n",
    "    for i in range(n):\n",
    "        for j in range(i):\n",
    "            if a[i] > a[j]:\n",
    "                l[i] = max(l[i], l[j] + 1)\n",
    "                \n",
    "    return l[-1]\n"
   ]
  },
  {
   "cell_type": "code",
   "execution_count": 22,
   "metadata": {},
   "outputs": [
    {
     "name": "stdout",
     "output_type": "stream",
     "text": [
      "7\n"
     ]
    }
   ],
   "source": [
    "a = [1, 2, 3, 5, 8, 7, 2, 9, 1, 3, 11]\n",
    "l = lis(a)\n",
    "print(l)"
   ]
  },
  {
   "cell_type": "markdown",
   "metadata": {},
   "source": [
    "Bài toán dóng hàng toàn cục\n",
    "\n"
   ]
  }
 ],
 "metadata": {
  "kernelspec": {
   "display_name": "Python 3.8.10 ('venv': venv)",
   "language": "python",
   "name": "python3"
  },
  "language_info": {
   "codemirror_mode": {
    "name": "ipython",
    "version": 3
   },
   "file_extension": ".py",
   "mimetype": "text/x-python",
   "name": "python",
   "nbconvert_exporter": "python",
   "pygments_lexer": "ipython3",
   "version": "3.8.10"
  },
  "orig_nbformat": 4,
  "vscode": {
   "interpreter": {
    "hash": "16027c8f3c0f87a5bb0df27de1ec8c71b86de43f93c776c5244a737dd8d77827"
   }
  }
 },
 "nbformat": 4,
 "nbformat_minor": 2
}
